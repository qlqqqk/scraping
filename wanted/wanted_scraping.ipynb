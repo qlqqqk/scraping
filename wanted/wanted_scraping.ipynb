{
 "cells": [
  {
   "cell_type": "code",
   "execution_count": 13,
   "metadata": {},
   "outputs": [],
   "source": [
    "from selenium import webdriver\n",
    "from selenium.webdriver.common.by import By\n",
    "import time\n",
    "import pandas as pd"
   ]
  },
  {
   "cell_type": "code",
   "execution_count": 2,
   "metadata": {},
   "outputs": [],
   "source": [
    "driver = webdriver.Chrome()\n",
    "driver.get('https://www.wanted.co.kr/wd/142384')"
   ]
  },
  {
   "cell_type": "code",
   "execution_count": 3,
   "metadata": {},
   "outputs": [
    {
     "name": "stdout",
     "output_type": "stream",
     "text": [
      "튜닙 NLP 엔지니어\n",
      "• 대화 모델링/엔지니어링\n",
      "• 데이터 수집, 정제, 엔지니어링\n",
      "• 대화 윤리 모듈 개발\n",
      "• 지원동기와 희망연봉을 기재해주세요. • 한국어 또는 영어 둘 중 하나는 능숙하신 분 \n",
      "• PyTorch, TensorFlow 둘 중 하나는 능숙하신 분\n",
      "• 챗봇 모델에 관심이 많으신 분\n",
      "• 주도적이신 분\n",
      "• 누구나 인정할 만한 역량이나 성과가 있든가, \"나는 사실 기회만 주어지면 누구보다 잘할 수 있는데 왜 세상은 나를 알아주지 않는가\" 라고 탄식해보신 분 • 관련 학과 전공자\n",
      "• 해당 직무 근무 경험자\n",
      "Confluence\n",
      "Git\n",
      "JIRA\n",
      "Flask\n",
      "Python\n",
      "SQL\n",
      "AWS\n",
      "PostgreSQL\n",
      "RESTful WebServices\n",
      "Notion\n",
      "Redmine\n",
      "FastAPI\n"
     ]
    }
   ],
   "source": [
    "company_name = driver.find_element(By.CLASS_NAME,'JobHeader_className__HttDA').find_element(By.TAG_NAME,'a') #기업 이름\n",
    "job_name = driver.find_element(By.CLASS_NAME,'JobHeader_className__HttDA').find_element(By.TAG_NAME,'h2') # 채용직군 이름\n",
    "job_description = driver.find_element(By.XPATH,'//*[@id=\"__next\"]/div[3]/div[1]/div[1]/div[1]/div[2]/section/p[2]/span') # 주요 업무\n",
    "requirements = driver.find_element(By.XPATH,'//*[@id=\"__next\"]/div[3]/div[1]/div[1]/div/div[2]/section/p[3]/span') # 자격요건\n",
    "option = driver.find_element(By.XPATH,'//*[@id=\"__next\"]/div[3]/div[1]/div[1]/div/div[2]/section/p[4]/span') # 자격요건\n",
    "skill= driver.find_element(By.XPATH,'//*[@id=\"__next\"]/div[3]/div[1]/div[1]/div/div[2]/section/p[6]/div') # skill\n",
    "\n",
    "print(company_name.text,job_name.text)\n",
    "print(job_description.text,requirements.text,option.text)\n",
    "print(skill.text)"
   ]
  },
  {
   "attachments": {},
   "cell_type": "markdown",
   "metadata": {},
   "source": [
    "### 원티드 분류 코드\n",
    "- 518 : 개발전체\n",
    "- 655 : Data engineer\n",
    "- 900 : C,C++ 개발자\n",
    "- 1024 : DataScientist\n",
    "- 1025 : BigData engineer\n",
    "- 1634 : ML engineer\n",
    "- 10110 : software engineer\n",
    "### job_sort\n",
    "    - 응답률순 : company.response_rate_order\n",
    "    - 최신순 : job.latest_order\n",
    "    - 인기순 : job.popularity_order\n",
    "    - 보상금순 : job.compensation_order"
   ]
  },
  {
   "cell_type": "code",
   "execution_count": 34,
   "metadata": {},
   "outputs": [],
   "source": [
    "'''\n",
    "단일 분류를 사용할때는 518/{}? 의형태\n",
    "#복수 태그의 경우에는 selected={}& ... 의형태로 붙음\n",
    "웹에서는 5개의 태그까지만 선택가능한데, selected로 6개를 선택하면 찾으시는 포지션이 없다고 나옴.\n",
    "키워드 검색은 search?query={}\n",
    "job_sortresponse_rate_order\n",
    "'''\n",
    "# driver.get('https://www.wanted.co.kr/search?query=AI')\n",
    "# driver.get('https://www.wanted.co.kr/wdlist/518?country=kr&job_sort=company.response_rate_order&years=-1&selected=1634&selected=1024&locations=all') \n",
    "driver = webdriver.Chrome()\n",
    "driver.get('https://www.wanted.co.kr/wdlist/518/1634?country=kr&job_sort=company.response_rate_order&years=-1&locations=all') "
   ]
  },
  {
   "cell_type": "code",
   "execution_count": 22,
   "metadata": {},
   "outputs": [],
   "source": [
    "ul = driver.find_element(By.XPATH,'//*[@id=\"__next\"]/div[3]/div/div/div[4]/ul/li[1]/div/a')\n",
    "# ul.click()\n",
    "# company_name = driver.find_element(By.CLASS_NAME,'JobHeader_className__HttDA').find_element(By.TAG_NAME,'a') #기업 이름\n",
    "company_name = driver.find_element(By.XPATH,'//*[@id=\"__next\"]/div[3]/div[1]/div[1]/div[1]/section[2]/div[1]/h6/a').text\n",
    "# job_name = driver.find_element(By.CLASS_NAME,'JobHeader_className__HttDA').find_element(By.TAG_NAME,'h2') # 채용직군 이름\n",
    "job_name = driver.find_element(By.XPATH,'//*[@id=\"__next\"]/div[3]/div[1]/div[1]/div[1]/section[2]/h2').text\n",
    "job_description = driver.find_element(By.XPATH,'//*[@id=\"__next\"]/div[3]/div[1]/div[1]/div[1]/div[2]/section/p[2]/span').text # 주요 업무\n",
    "requirements = driver.find_element(By.XPATH,'//*[@id=\"__next\"]/div[3]/div[1]/div[1]/div/div[2]/section/p[3]/span').text # 자격요건\n",
    "option = driver.find_element(By.XPATH,'//*[@id=\"__next\"]/div[3]/div[1]/div[1]/div/div[2]/section/p[4]/span').text # 자격요건\n",
    "skill = driver.find_element(By.XPATH,'//*[@id=\"__next\"]/div[3]/div[1]/div[1]/div/div[2]/section/p[6]/div').text # skill"
   ]
  },
  {
   "cell_type": "code",
   "execution_count": 31,
   "metadata": {},
   "outputs": [
    {
     "ename": "TypeError",
     "evalue": "cannot concatenate object of type '<class 'list'>'; only Series and DataFrame objs are valid",
     "output_type": "error",
     "traceback": [
      "\u001b[0;31m---------------------------------------------------------------------------\u001b[0m",
      "\u001b[0;31mTypeError\u001b[0m                                 Traceback (most recent call last)",
      "\u001b[1;32m/Users/jeonhyeongjin/JDsummary/wanted_scraping.ipynb Cell 7\u001b[0m in \u001b[0;36m<cell line: 1>\u001b[0;34m()\u001b[0m\n\u001b[0;32m----> <a href='vscode-notebook-cell:/Users/jeonhyeongjin/JDsummary/wanted_scraping.ipynb#X16sZmlsZQ%3D%3D?line=0'>1</a>\u001b[0m pd\u001b[39m.\u001b[39;49mconcat([JD_data,[table]])\n",
      "File \u001b[0;32m/opt/anaconda3/envs/tf/lib/python3.8/site-packages/pandas/util/_decorators.py:311\u001b[0m, in \u001b[0;36mdeprecate_nonkeyword_arguments.<locals>.decorate.<locals>.wrapper\u001b[0;34m(*args, **kwargs)\u001b[0m\n\u001b[1;32m    305\u001b[0m \u001b[39mif\u001b[39;00m \u001b[39mlen\u001b[39m(args) \u001b[39m>\u001b[39m num_allow_args:\n\u001b[1;32m    306\u001b[0m     warnings\u001b[39m.\u001b[39mwarn(\n\u001b[1;32m    307\u001b[0m         msg\u001b[39m.\u001b[39mformat(arguments\u001b[39m=\u001b[39marguments),\n\u001b[1;32m    308\u001b[0m         \u001b[39mFutureWarning\u001b[39;00m,\n\u001b[1;32m    309\u001b[0m         stacklevel\u001b[39m=\u001b[39mstacklevel,\n\u001b[1;32m    310\u001b[0m     )\n\u001b[0;32m--> 311\u001b[0m \u001b[39mreturn\u001b[39;00m func(\u001b[39m*\u001b[39;49margs, \u001b[39m*\u001b[39;49m\u001b[39m*\u001b[39;49mkwargs)\n",
      "File \u001b[0;32m/opt/anaconda3/envs/tf/lib/python3.8/site-packages/pandas/core/reshape/concat.py:347\u001b[0m, in \u001b[0;36mconcat\u001b[0;34m(objs, axis, join, ignore_index, keys, levels, names, verify_integrity, sort, copy)\u001b[0m\n\u001b[1;32m    143\u001b[0m \u001b[39m@deprecate_nonkeyword_arguments\u001b[39m(version\u001b[39m=\u001b[39m\u001b[39mNone\u001b[39;00m, allowed_args\u001b[39m=\u001b[39m[\u001b[39m\"\u001b[39m\u001b[39mobjs\u001b[39m\u001b[39m\"\u001b[39m])\n\u001b[1;32m    144\u001b[0m \u001b[39mdef\u001b[39;00m \u001b[39mconcat\u001b[39m(\n\u001b[1;32m    145\u001b[0m     objs: Iterable[NDFrame] \u001b[39m|\u001b[39m Mapping[Hashable, NDFrame],\n\u001b[0;32m   (...)\u001b[0m\n\u001b[1;32m    154\u001b[0m     copy: \u001b[39mbool\u001b[39m \u001b[39m=\u001b[39m \u001b[39mTrue\u001b[39;00m,\n\u001b[1;32m    155\u001b[0m ) \u001b[39m-\u001b[39m\u001b[39m>\u001b[39m DataFrame \u001b[39m|\u001b[39m Series:\n\u001b[1;32m    156\u001b[0m     \u001b[39m\"\"\"\u001b[39;00m\n\u001b[1;32m    157\u001b[0m \u001b[39m    Concatenate pandas objects along a particular axis with optional set logic\u001b[39;00m\n\u001b[1;32m    158\u001b[0m \u001b[39m    along the other axes.\u001b[39;00m\n\u001b[0;32m   (...)\u001b[0m\n\u001b[1;32m    345\u001b[0m \u001b[39m    ValueError: Indexes have overlapping values: ['a']\u001b[39;00m\n\u001b[1;32m    346\u001b[0m \u001b[39m    \"\"\"\u001b[39;00m\n\u001b[0;32m--> 347\u001b[0m     op \u001b[39m=\u001b[39m _Concatenator(\n\u001b[1;32m    348\u001b[0m         objs,\n\u001b[1;32m    349\u001b[0m         axis\u001b[39m=\u001b[39;49maxis,\n\u001b[1;32m    350\u001b[0m         ignore_index\u001b[39m=\u001b[39;49mignore_index,\n\u001b[1;32m    351\u001b[0m         join\u001b[39m=\u001b[39;49mjoin,\n\u001b[1;32m    352\u001b[0m         keys\u001b[39m=\u001b[39;49mkeys,\n\u001b[1;32m    353\u001b[0m         levels\u001b[39m=\u001b[39;49mlevels,\n\u001b[1;32m    354\u001b[0m         names\u001b[39m=\u001b[39;49mnames,\n\u001b[1;32m    355\u001b[0m         verify_integrity\u001b[39m=\u001b[39;49mverify_integrity,\n\u001b[1;32m    356\u001b[0m         copy\u001b[39m=\u001b[39;49mcopy,\n\u001b[1;32m    357\u001b[0m         sort\u001b[39m=\u001b[39;49msort,\n\u001b[1;32m    358\u001b[0m     )\n\u001b[1;32m    360\u001b[0m     \u001b[39mreturn\u001b[39;00m op\u001b[39m.\u001b[39mget_result()\n",
      "File \u001b[0;32m/opt/anaconda3/envs/tf/lib/python3.8/site-packages/pandas/core/reshape/concat.py:437\u001b[0m, in \u001b[0;36m_Concatenator.__init__\u001b[0;34m(self, objs, axis, join, keys, levels, names, ignore_index, verify_integrity, copy, sort)\u001b[0m\n\u001b[1;32m    432\u001b[0m     \u001b[39mif\u001b[39;00m \u001b[39mnot\u001b[39;00m \u001b[39misinstance\u001b[39m(obj, (ABCSeries, ABCDataFrame)):\n\u001b[1;32m    433\u001b[0m         msg \u001b[39m=\u001b[39m (\n\u001b[1;32m    434\u001b[0m             \u001b[39mf\u001b[39m\u001b[39m\"\u001b[39m\u001b[39mcannot concatenate object of type \u001b[39m\u001b[39m'\u001b[39m\u001b[39m{\u001b[39;00m\u001b[39mtype\u001b[39m(obj)\u001b[39m}\u001b[39;00m\u001b[39m'\u001b[39m\u001b[39m; \u001b[39m\u001b[39m\"\u001b[39m\n\u001b[1;32m    435\u001b[0m             \u001b[39m\"\u001b[39m\u001b[39monly Series and DataFrame objs are valid\u001b[39m\u001b[39m\"\u001b[39m\n\u001b[1;32m    436\u001b[0m         )\n\u001b[0;32m--> 437\u001b[0m         \u001b[39mraise\u001b[39;00m \u001b[39mTypeError\u001b[39;00m(msg)\n\u001b[1;32m    439\u001b[0m     ndims\u001b[39m.\u001b[39madd(obj\u001b[39m.\u001b[39mndim)\n\u001b[1;32m    441\u001b[0m \u001b[39m# get the sample\u001b[39;00m\n\u001b[1;32m    442\u001b[0m \u001b[39m# want the highest ndim that we have, and must be non-empty\u001b[39;00m\n\u001b[1;32m    443\u001b[0m \u001b[39m# unless all objs are empty\u001b[39;00m\n",
      "\u001b[0;31mTypeError\u001b[0m: cannot concatenate object of type '<class 'list'>'; only Series and DataFrame objs are valid"
     ]
    }
   ],
   "source": [
    "JD_data = pd.DataFrame(columns=['Company','Job','Job_JD','Requirements','Option','Skill'])\n",
    "\n",
    "table = {\n",
    "    'Company' : company_name,\n",
    "    'Job' : job_name,\n",
    "    'Job_JD' : job_description,\n",
    "    'Requirements' : requirements,\n",
    "    'Option' : option,\n",
    "    'Skill' : skill\n",
    "}\n",
    "JD_data = pd.DataFrame.from_dict([table])"
   ]
  },
  {
   "cell_type": "code",
   "execution_count": 33,
   "metadata": {},
   "outputs": [
    {
     "data": {
      "text/html": [
       "<div>\n",
       "<style scoped>\n",
       "    .dataframe tbody tr th:only-of-type {\n",
       "        vertical-align: middle;\n",
       "    }\n",
       "\n",
       "    .dataframe tbody tr th {\n",
       "        vertical-align: top;\n",
       "    }\n",
       "\n",
       "    .dataframe thead th {\n",
       "        text-align: right;\n",
       "    }\n",
       "</style>\n",
       "<table border=\"1\" class=\"dataframe\">\n",
       "  <thead>\n",
       "    <tr style=\"text-align: right;\">\n",
       "      <th></th>\n",
       "      <th>Company</th>\n",
       "      <th>Job</th>\n",
       "      <th>Job_JD</th>\n",
       "      <th>Requirements</th>\n",
       "      <th>Option</th>\n",
       "      <th>Skill</th>\n",
       "    </tr>\n",
       "  </thead>\n",
       "  <tbody>\n",
       "  </tbody>\n",
       "</table>\n",
       "</div>"
      ],
      "text/plain": [
       "Empty DataFrame\n",
       "Columns: [Company, Job, Job_JD, Requirements, Option, Skill]\n",
       "Index: []"
      ]
     },
     "execution_count": 33,
     "metadata": {},
     "output_type": "execute_result"
    }
   ],
   "source": [
    "JD_data = pd.DataFrame(columns=['Company','Job','Job_JD','Requirements','Option','Skill'])"
   ]
  },
  {
   "cell_type": "code",
   "execution_count": null,
   "metadata": {},
   "outputs": [],
   "source": []
  },
  {
   "cell_type": "code",
   "execution_count": 7,
   "metadata": {},
   "outputs": [
    {
     "ename": "AttributeError",
     "evalue": "'list' object has no attribute 'click'",
     "output_type": "error",
     "traceback": [
      "\u001b[0;31m---------------------------------------------------------------------------\u001b[0m",
      "\u001b[0;31mAttributeError\u001b[0m                            Traceback (most recent call last)",
      "\u001b[1;32m/Users/jeonhyeongjin/JDsummary/wanted_scraping.ipynb Cell 6\u001b[0m in \u001b[0;36m<cell line: 1>\u001b[0;34m()\u001b[0m\n\u001b[0;32m----> <a href='vscode-notebook-cell:/Users/jeonhyeongjin/JDsummary/wanted_scraping.ipynb#W3sZmlsZQ%3D%3D?line=0'>1</a>\u001b[0m banner_url \u001b[39m=\u001b[39m driver\u001b[39m.\u001b[39;49mfind_elements(By\u001b[39m.\u001b[39;49mXPATH,\u001b[39m'\u001b[39;49m\u001b[39m//*[@id=\u001b[39;49m\u001b[39m\"\u001b[39;49m\u001b[39m__next\u001b[39;49m\u001b[39m\"\u001b[39;49m\u001b[39m]/div[3]/div/div/div[4]/ul/li/div/a\u001b[39;49m\u001b[39m'\u001b[39;49m)\u001b[39m.\u001b[39;49mclick()\n",
      "\u001b[0;31mAttributeError\u001b[0m: 'list' object has no attribute 'click'"
     ]
    }
   ],
   "source": [
    "banner_url = driver.find_elements(By.XPATH,'//*[@id=\"__next\"]/div[3]/div/div/div[4]/ul/li/div/a')\n",
    "for url in banner_url:\n",
    "    \n"
   ]
  },
  {
   "cell_type": "code",
   "execution_count": 13,
   "metadata": {},
   "outputs": [],
   "source": [
    "driver.back()"
   ]
  },
  {
   "cell_type": "code",
   "execution_count": 38,
   "metadata": {},
   "outputs": [
    {
     "data": {
      "text/plain": [
       "'슈프리마'"
      ]
     },
     "execution_count": 38,
     "metadata": {},
     "output_type": "execute_result"
    }
   ],
   "source": [
    "driver.find_elements(By.CLASS_NAME,'job-card-company-name')[-1].text"
   ]
  },
  {
   "cell_type": "code",
   "execution_count": 36,
   "metadata": {},
   "outputs": [],
   "source": [
    "pre_page = driver.execute_script('return document.body.scrollHeight')\n",
    "while True:\n",
    "    driver.execute_script(\"window.scrollTo(0, document.body.scrollHeight)\")\n",
    "    time.sleep(3)\n",
    "    current_page = driver.execute_script('return document.body.scrollHeight')\n",
    "    if current_page == pre_page:\n",
    "        break  \n",
    "    else:\n",
    "         pre_page = current_page\n",
    "    "
   ]
  },
  {
   "cell_type": "code",
   "execution_count": 115,
   "metadata": {},
   "outputs": [],
   "source": [
    "driver.close()"
   ]
  },
  {
   "cell_type": "code",
   "execution_count": null,
   "metadata": {},
   "outputs": [],
   "source": []
  }
 ],
 "metadata": {
  "kernelspec": {
   "display_name": "Python 3",
   "language": "python",
   "name": "python3"
  },
  "language_info": {
   "codemirror_mode": {
    "name": "ipython",
    "version": 3
   },
   "file_extension": ".py",
   "mimetype": "text/x-python",
   "name": "python",
   "nbconvert_exporter": "python",
   "pygments_lexer": "ipython3",
   "version": "3.8.13"
  },
  "orig_nbformat": 4,
  "vscode": {
   "interpreter": {
    "hash": "dc1b947dce198ff7f2d2cb152b2cbb61132fce4429fa808fd5b89ac4d7df39fa"
   }
  }
 },
 "nbformat": 4,
 "nbformat_minor": 2
}
